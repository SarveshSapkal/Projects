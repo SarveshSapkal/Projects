{
 "cells": [
  {
   "cell_type": "code",
   "execution_count": 9,
   "id": "eb9e2faf-57db-4b22-8c77-2476b0171493",
   "metadata": {},
   "outputs": [],
   "source": [
    "import cv2 # importing Library\n",
    "\n",
    "vid=cv2.VideoCapture('crowd.mp4') # Getting the video From Dekstop\n",
    "while vid.isOpened(): # putting Condition\n",
    "    rate,frame = vid.read() # creating two variables for video rendaring rate is boolean variable\n",
    "    if rate == True: # putting condition\n",
    "        frame = cv2.resize(frame,(600,500)) # reszibg the video\n",
    "        gray = cv2.cvtColor(frame,cv2.COLOR_BGR2GRAY) # converting image to grayscale\n",
    "        haarcascade = cv2.CascadeClassifier(r'C://Users//Sarvesh//Practice//Programs//HaarCascade/haarcascade_fullbody.xml') # getting cascade xml file \n",
    "        face_pointer=haarcascade.detectMultiScale(gray,1.1,2) # getting a varible that store boundary rectangles for the detected faces \n",
    "        for (x,y,w,h) in face_pointer: # rectangle values from face_pointer variable\n",
    "            cv2.rectangle(frame,(x,y),(x+w,y+h),(0,240,0),2) # making ractangle\n",
    "        cv2.imshow('walking video',frame) # displaying the video\n",
    "        if cv2.waitKey(25) & 0xff == ord('q'): # putting condition (25) frames per second and 'q' for exit\n",
    "            break\n",
    "    else:\n",
    "        break\n",
    "            \n",
    "vid.release() # releasing the video\n",
    "cv2.destroyAllWindows() # for closing the video\n"
   ]
  }
 ],
 "metadata": {
  "kernelspec": {
   "display_name": "Python 3 (ipykernel)",
   "language": "python",
   "name": "python3"
  },
  "language_info": {
   "codemirror_mode": {
    "name": "ipython",
    "version": 3
   },
   "file_extension": ".py",
   "mimetype": "text/x-python",
   "name": "python",
   "nbconvert_exporter": "python",
   "pygments_lexer": "ipython3",
   "version": "3.12.4"
  }
 },
 "nbformat": 4,
 "nbformat_minor": 5
}
