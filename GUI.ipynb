{
 "cells": [
  {
   "cell_type": "markdown",
   "id": "369f5ecb-736d-463a-8dda-e4bef4043dc0",
   "metadata": {},
   "source": [
    "# Importing The Libreries"
   ]
  },
  {
   "cell_type": "code",
   "execution_count": 1,
   "id": "5f96d4c2-96b8-478d-b034-987333e2e6f2",
   "metadata": {},
   "outputs": [],
   "source": [
    "import tkinter as tk\n",
    "from tkinter import filedialog\n",
    "from tkinter import *\n",
    "from PIL import Image,ImageTk\n",
    "import numpy as np\n",
    "from keras.models import load_model"
   ]
  },
  {
   "cell_type": "markdown",
   "id": "ea32ce8d-4b87-4b85-969f-3108918917d6",
   "metadata": {},
   "source": [
    "# Loading The Trained Model"
   ]
  },
  {
   "cell_type": "code",
   "execution_count": 2,
   "id": "de9af176-e489-4b94-af4d-1a931865c760",
   "metadata": {},
   "outputs": [],
   "source": [
    "model=load_model('Age_Gender_Detection.keras')"
   ]
  },
  {
   "cell_type": "markdown",
   "id": "f5277e1b-80cd-4893-a263-318f7adcb858",
   "metadata": {},
   "source": [
    "# Initializing The GUI"
   ]
  },
  {
   "cell_type": "code",
   "execution_count": 3,
   "id": "12cec196-bf49-4151-8ace-6c9b492afcfb",
   "metadata": {},
   "outputs": [],
   "source": [
    "top=tk.Tk()\n",
    "top.geometry('800x600')\n",
    "top.title('Age And Gender Detector')\n",
    "top.configure(background='#CDCDCD')"
   ]
  },
  {
   "cell_type": "markdown",
   "id": "63a7c1f9-9462-40a2-9d3a-7d7931c8c236",
   "metadata": {},
   "source": [
    "# Intializing The Label For Age And Sex"
   ]
  },
  {
   "cell_type": "code",
   "execution_count": 4,
   "id": "4dea8d65-ece0-43b3-8347-89ead6e843c4",
   "metadata": {},
   "outputs": [],
   "source": [
    "label1=Label(top,background='#CDCDCD',font=('arial',15,'bold'))\n",
    "label2=Label(top,background='#CDCDCD',font=('arial',15,'bold'))\n",
    "sign_image=Label(top)"
   ]
  },
  {
   "cell_type": "markdown",
   "id": "e0b9f6f0-e1f7-4946-b120-3cf4d49485e4",
   "metadata": {},
   "source": [
    "# Defining a Detect Function which detects age and gender from our Model"
   ]
  },
  {
   "cell_type": "code",
   "execution_count": null,
   "id": "6db4fc83-8556-44cf-af32-551996c0e4df",
   "metadata": {},
   "outputs": [
    {
     "name": "stdout",
     "output_type": "stream",
     "text": [
      "Selected file path: C:/Users/Sarvesh/Gendar And Age Detector/UTKFace/46_1_0_20170104235246210.jpg.chip.jpg\n",
      "\u001b[1m1/1\u001b[0m \u001b[32m━━━━━━━━━━━━━━━━━━━━\u001b[0m\u001b[37m\u001b[0m \u001b[1m0s\u001b[0m 31ms/step\n"
     ]
    }
   ],
   "source": [
    "\n",
    "def Detect(file_path):\n",
    "        global label_packed\n",
    "        image=Image.open(file_path).convert('RGB')\n",
    "        image=image.resize((48,48))\n",
    "        \n",
    "        image=np.array(image)\n",
    "        if image.shape[-1] != 3:\n",
    "            image = np.stack([image] * 3, axis=-1)\n",
    "        image=np.array(image)/255\n",
    "        image=np.expand_dims(image,axis=0)\n",
    "        \n",
    "        pred=model.predict(image)\n",
    "        age = int(np.round(pred[1][0].item()))\n",
    "        sex = int(np.round(pred[0][0].item()))\n",
    "\n",
    "        sex_f=['Male','Female']\n",
    "        \n",
    "        label1.configure(foreground='#011638', text=f\"Predicted Age: {age}\")\n",
    "        label2.configure(foreground='#011638', text=f\"Predicted Gender: {sex_f[sex]}\")\n",
    "\n",
    " \n",
    "def upload_image():  # Defining upload_image function\n",
    "    try:\n",
    "        # Open file dialog and get file path\n",
    "        file_path = filedialog.askopenfilename(\n",
    "            title=\"Select an Image\",\n",
    "            filetypes=[(\"Image Files\", \"*.jpg;*.jpeg;*.png;*.bmp\")])\n",
    "        \n",
    "        if file_path: # Open and process the image\n",
    "    \n",
    "            uploaded = Image.open(file_path)\n",
    "            uploaded.thumbnail((top.winfo_width() / 2.25, top.winfo_height() / 2.25))\n",
    "            im = ImageTk.PhotoImage(uploaded)\n",
    "            \n",
    "            # Update the label with the new image\n",
    "            sign_image.configure(image=im)\n",
    "            sign_image.image = im \n",
    "            \n",
    "            \n",
    "            label1.configure(text='')\n",
    "            label2.configure(text='')\n",
    "            show_Detect_button(file_path)\n",
    "            print(f\"Selected file path: {file_path}\")\n",
    "    except Exception as e:\n",
    "        print(f\"Error: {e}\")\n",
    "\n",
    "def show_Detect_button(file_path):  # Defining Show_Detect_Function\n",
    "    for widget in top.winfo_children():\n",
    "        if isinstance(widget, tk.Button) and widget.cget('text') == 'Detect Image':\n",
    "            widget.destroy()\n",
    "    \n",
    "    Detect_b = tk.Button(top, text='Detect Image', command=lambda: Detect(file_path), padx=10, pady=5)\n",
    "    Detect_b.configure(background='#364156', foreground='white', font=('arial', 10, 'bold'))\n",
    "    Detect_b.place(relx=0.79, rely=0.46)\n",
    "\n",
    "# Set up the Tkinter window\n",
    "top = tk.Tk()\n",
    "top.geometry('800x600')\n",
    "top.title('Age And Gender Detector')\n",
    "top.configure(background='#CDCDCD')\n",
    "\n",
    "# Create and pack the labels\n",
    "label1 = tk.Label(top, background='#CDCDCD', font=('arial', 15, 'bold'))\n",
    "label2 = tk.Label(top, background='#CDCDCD', font=('arial', 15, 'bold'))\n",
    "\n",
    "sign_image = tk.Label(top, background='#CDCDCD')\n",
    "\n",
    "# Upload button\n",
    "upload = tk.Button(top, text='Upload an image', command=upload_image, padx=10, pady=5)\n",
    "upload.configure(background='#364156', foreground='white', font=('arial', 10, 'bold'))\n",
    "upload.pack(side='bottom', pady=20)\n",
    "\n",
    "sign_image.pack(side='bottom', expand=True)\n",
    "label1.pack(side='bottom', expand=True)\n",
    "label2.pack(side='bottom', expand=True)\n",
    "\n",
    "heading = tk.Label(top, text='Age And Gender Detector', pady=20, font=('arial', 20, 'bold'))\n",
    "heading.configure(background='#CDCDCD', foreground='#364156')\n",
    "heading.pack()\n",
    "\n",
    "top.mainloop()\n"
   ]
  },
  {
   "cell_type": "code",
   "execution_count": null,
   "id": "849d9433-e05c-48d9-b511-bcdd3d79d5c7",
   "metadata": {},
   "outputs": [],
   "source": []
  }
 ],
 "metadata": {
  "kernelspec": {
   "display_name": "Python 3 (ipykernel)",
   "language": "python",
   "name": "python3"
  },
  "language_info": {
   "codemirror_mode": {
    "name": "ipython",
    "version": 3
   },
   "file_extension": ".py",
   "mimetype": "text/x-python",
   "name": "python",
   "nbconvert_exporter": "python",
   "pygments_lexer": "ipython3",
   "version": "3.12.4"
  }
 },
 "nbformat": 4,
 "nbformat_minor": 5
}
