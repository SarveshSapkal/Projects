{
 "cells": [
  {
   "cell_type": "markdown",
   "id": "cd441eb5-83ad-4824-a1f8-c961bb300e81",
   "metadata": {},
   "source": [
    "# People's Face Detection Using OpenCv"
   ]
  },
  {
   "cell_type": "code",
   "execution_count": null,
   "id": "23951bcf-2c78-437b-bc52-7efae99457b2",
   "metadata": {},
   "outputs": [],
   "source": [
    "import cv2\n",
    "\n",
    "vid=cv2.VideoCapture('smiling faces.mp4') # Getting the video From Dekstop\n",
    "while vid.isOpened():  # putting Condition\n",
    "    rate,frame = vid.read() # creating two variables for video rendaring rate is boolean variable\n",
    "    if rate == True: # putting condition\n",
    "        frame = cv2.resize(frame,(600,500)) # reszing the video\n",
    "        gray = cv2.cvtColor(frame,cv2.COLOR_BGR2GRAY) # converting image to grayscale\n",
    "        haarcascade = cv2.CascadeClassifier(r'C://Users//Sarvesh//Practice//Programs//HaarCascade/haarcascade_frontalface_default.xml') # getting cascade xml file \n",
    "        face_pointer=haarcascade.detectMultiScale(gray,1.1,8) # getting a varible that store boundary rectangles for the detected faces \n",
    "        for (x,y,w,h) in face_pointer: # rectangle values from face_pointer variable\n",
    "            cv2.rectangle(frame,(x,y),(x+w,y+h),(255,255,0),3) # making ractangle\n",
    "        cv2.imshow('smiling faces video',frame) # displaying the video\n",
    "        if cv2.waitKey(5) & 0xff == ord('q'):\n",
    "            break\n",
    "    else:\n",
    "        break\n",
    "            \n",
    "vid.release()\n",
    "cv2.destroyAllWindows()"
   ]
  }
 ],
 "metadata": {
  "kernelspec": {
   "display_name": "Python 3 (ipykernel)",
   "language": "python",
   "name": "python3"
  },
  "language_info": {
   "codemirror_mode": {
    "name": "ipython",
    "version": 3
   },
   "file_extension": ".py",
   "mimetype": "text/x-python",
   "name": "python",
   "nbconvert_exporter": "python",
   "pygments_lexer": "ipython3",
   "version": "3.12.4"
  }
 },
 "nbformat": 4,
 "nbformat_minor": 5
}
